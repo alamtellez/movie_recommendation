{
 "cells": [
  {
   "cell_type": "markdown",
   "metadata": {},
   "source": [
    "# This is the code part for the movie recommendations system\n",
    "\n",
    "\n",
    "\n",
    "\n",
    "\n",
    "To compute the similarity between we are going to use the cosine approach to determine the distance between users / items\n",
    "\n",
    "<img src=\"cosine.png\">\n",
    "\n",
    "This means that we are not going to compare them based on the distance between their vector values, but taking into account the direction in which they are pointing\n",
    "\n"
   ]
  },
  {
   "cell_type": "code",
   "execution_count": 79,
   "metadata": {},
   "outputs": [
    {
     "data": {
      "image/png": "[encoded data removed]",
      "text/plain": [
       "<Figure size 432x288 with 1 Axes>"
      ]
     },
     "metadata": {
      "needs_background": "light"
     },
     "output_type": "display_data"
    }
   ],
   "source": [
    "import numpy as np\n",
    "import matplotlib.pyplot as plt\n",
    "%matplotlib inline\n",
    "\n",
    "soa = np.array([[0, 0, 3.5, 2.8], [0, 0, 9, 9]])\n",
    "X, Y, U, V = zip(*soa)\n",
    "plt.figure()\n",
    "ax = plt.gca()\n",
    "ax.quiver(X, Y, U, V, angles='xy', scale_units='xy', scale=1)\n",
    "ax.set_xlim([-1, 10])\n",
    "ax.set_ylim([-1, 10])\n",
    "plt.draw()\n",
    "plt.show()\n"
   ]
  },
  {
   "cell_type": "code",
   "execution_count": 40,
   "metadata": {},
   "outputs": [],
   "source": [
    "from surprise import Dataset, evaluate\n",
    "from surprise import KNNBasic, SVD\n",
    "from surprise.model_selection import train_test_split\n",
    "from surprise import accuracy\n",
    "from collections import defaultdict\n",
    "import os"
   ]
  },
  {
   "cell_type": "markdown",
   "metadata": {},
   "source": [
    "### Now we have imported our tools, we are going to import the data"
   ]
  },
  {
   "cell_type": "code",
   "execution_count": 32,
   "metadata": {},
   "outputs": [],
   "source": [
    "data = Dataset.load_builtin(\"ml-100k\")\n",
    "trainingSet = data.build_full_trainset()"
   ]
  },
  {
   "cell_type": "markdown",
   "metadata": {},
   "source": [
    "#### Decalare our training model"
   ]
  },
  {
   "cell_type": "code",
   "execution_count": 33,
   "metadata": {},
   "outputs": [],
   "source": [
    "model = KNNBasic(name='cosine', user_based=False)\n"
   ]
  },
  {
   "cell_type": "code",
   "execution_count": 34,
   "metadata": {},
   "outputs": [
    {
     "name": "stdout",
     "output_type": "stream",
     "text": [
      "Computing the msd similarity matrix...\n",
      "Done computing similarity matrix.\n"
     ]
    },
    {
     "data": {
      "text/plain": [
       "<surprise.prediction_algorithms.knns.KNNBasic at 0x18255d15e80>"
      ]
     },
     "execution_count": 34,
     "metadata": {},
     "output_type": "execute_result"
    }
   ],
   "source": [
    "model.fit(trainset=trainingSet)"
   ]
  },
  {
   "cell_type": "code",
   "execution_count": 35,
   "metadata": {},
   "outputs": [],
   "source": [
    "testSet = trainingSet.build_anti_testset()\n",
    "predictions = model.test(testSet)"
   ]
  },
  {
   "cell_type": "code",
   "execution_count": 36,
   "metadata": {},
   "outputs": [],
   "source": [
    "def set_top_recommendations(predictions, top_n = 3):\n",
    "    \n",
    "    # Define a default list for every user's predictions\n",
    "    recommendations = defaultdict(list)\n",
    "    \n",
    "    # For every prediction, we are going to create a dictionary to store them by user\n",
    "    for user_id, movie_id, _, est, _ in predictions:\n",
    "        recommendations[user_id].append((movie_id, est))\n",
    "    \n",
    "    # When we have them grouped by user, we are going to sort them by their estimation\n",
    "    # meaning that the ones with higher estimation are the ones more likely that the user will like\n",
    "    for user_id, user_ratings in recommendations.items():\n",
    "        # For every user, we sort from highest to lowest according to estimation\n",
    "        user_ratings.sort(key = lambda x: x[1], reverse = True)\n",
    "        # Then we only store the ones for which the limit was given\n",
    "        recommendations[user_id] = user_ratings[:top_n]\n",
    "     \n",
    "    return recommendations\n"
   ]
  },
  {
   "cell_type": "code",
   "execution_count": 37,
   "metadata": {},
   "outputs": [],
   "source": [
    "def display_movie_names():\n",
    "    \n",
    "    # What this method is aiming to do is to transform the ids of the movies\n",
    "    # into their names so it is more user friendly\n",
    "\n",
    "    file_name = (os.path.expanduser('~') + '/.surprise_data/ml-100k/ml-100k/u.item')\n",
    "    id_name = {}\n",
    "    with open(file_name, 'r', encoding='ISO-8859-1') as f:\n",
    "        for line in f:\n",
    "            line = line.split('|')\n",
    "            id_name[line[0]] = line[1]\n",
    " \n",
    "    return id_name\n"
   ]
  },
  {
   "cell_type": "code",
   "execution_count": 38,
   "metadata": {},
   "outputs": [
    {
     "name": "stdout",
     "output_type": "stream",
     "text": [
      "263 ['Prefontaine (1997)', 'Santa with Muscles (1996)', 'Great Day in Harlem, A (1994)', 'Aiqing wansui (1994)']\n"
     ]
    }
   ],
   "source": [
    "top_recommendations = set_top_recommendations(predictions,4)\n",
    "id_names = display_movie_names()\n",
    "user_id = str(263)\n",
    "print(user_id, [id_names[movie_id] for (movie_id, _) in top_recommendations[user_id]])"
   ]
  },
  {
   "cell_type": "code",
   "execution_count": 39,
   "metadata": {},
   "outputs": [
    {
     "name": "stdout",
     "output_type": "stream",
     "text": [
      "RMSE: 0.9181\n",
      "0.918127345205456\n"
     ]
    }
   ],
   "source": [
    "print(accuracy.rmse(predictions))"
   ]
  },
  {
   "cell_type": "markdown",
   "metadata": {},
   "source": [
    "# Now we are going to use the SVD algorithm to compare their accuracy"
   ]
  },
  {
   "cell_type": "code",
   "execution_count": 43,
   "metadata": {},
   "outputs": [],
   "source": [
    "trainset, testset = train_test_split(data, test_size=.25)\n",
    "algo = SVD()"
   ]
  },
  {
   "cell_type": "code",
   "execution_count": 44,
   "metadata": {},
   "outputs": [],
   "source": [
    "algo.fit(trainset)\n",
    "predictions = algo.test(testset)"
   ]
  },
  {
   "cell_type": "code",
   "execution_count": 46,
   "metadata": {},
   "outputs": [
    {
     "name": "stdout",
     "output_type": "stream",
     "text": [
      "RMSE: 0.9425\n"
     ]
    },
    {
     "data": {
      "text/plain": [
       "0.9424738577109092"
      ]
     },
     "execution_count": 46,
     "metadata": {},
     "output_type": "execute_result"
    }
   ],
   "source": [
    "accuracy.rmse(predictions)"
   ]
  },
  {
   "cell_type": "code",
   "execution_count": 47,
   "metadata": {},
   "outputs": [
    {
     "name": "stdout",
     "output_type": "stream",
     "text": [
      "263 ['Shawshank Redemption, The (1994)', 'Bridge on the River Kwai, The (1957)', 'Star Wars (1977)', 'Great Escape, The (1963)']\n"
     ]
    }
   ],
   "source": [
    "top_recommendations = set_top_recommendations(predictions,4)\n",
    "id_names = display_movie_names()\n",
    "user_id = str(263)\n",
    "print(user_id, [id_names[movie_id] for (movie_id, _) in top_recommendations[user_id]])\n"
   ]
  }
 ],
 "metadata": {
  "kernelspec": {
   "display_name": "Python 3",
   "language": "python",
   "name": "python3"
  },
  "language_info": {
   "codemirror_mode": {
    "name": "ipython",
    "version": 3
   },
   "file_extension": ".py",
   "mimetype": "text/x-python",
   "name": "python",
   "nbconvert_exporter": "python",
   "pygments_lexer": "ipython3",
   "version": "3.7.0"
  }
 },
 "nbformat": 4,
 "nbformat_minor": 2
}
